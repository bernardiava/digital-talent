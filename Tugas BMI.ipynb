{
 "cells": [
  {
   "cell_type": "code",
   "execution_count": 1,
   "metadata": {},
   "outputs": [
    {
     "name": "stdout",
     "output_type": "stream",
     "text": [
      "21.218317194552675\n",
      "Normal (healthy weight)\n",
      "Program Selesai\n"
     ]
    }
   ],
   "source": [
    "weight = 55\n",
    "height = 1.61\n",
    "BMI = weight/(height**2)\n",
    "print (BMI)\n",
    "if BMI<15:\n",
    "    print(\"Very severely underweight\")\n",
    "elif BMI<16:\n",
    "    print(\"Severely underweight\")\n",
    "elif BMI<18.5:\n",
    "    print(\"Underweight\")\n",
    "elif BMI<25:\n",
    "    print(\"Normal (healthy weight)\")\n",
    "elif BMI<30:\n",
    "    print(\"Overweight\")\n",
    "elif BMI<35:\n",
    "    print(\"Moderately obese\")\n",
    "elif BMI<40:\n",
    "    print(\"Severely obese\")\n",
    "elif BMI>40:\n",
    "    print(\"Very severely obese\")\n",
    "else:\n",
    "    print(\"Unidentified\")\n",
    "print(\"Program Selesai\")"
   ]
  },
  {
   "cell_type": "code",
   "execution_count": null,
   "metadata": {},
   "outputs": [],
   "source": []
  }
 ],
 "metadata": {
  "kernelspec": {
   "display_name": "Python 3",
   "language": "python",
   "name": "python3"
  },
  "language_info": {
   "codemirror_mode": {
    "name": "ipython",
    "version": 3
   },
   "file_extension": ".py",
   "mimetype": "text/x-python",
   "name": "python",
   "nbconvert_exporter": "python",
   "pygments_lexer": "ipython3",
   "version": "3.7.0"
  }
 },
 "nbformat": 4,
 "nbformat_minor": 2
}
