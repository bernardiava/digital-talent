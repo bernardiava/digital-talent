{
 "cells": [
  {
   "cell_type": "markdown",
   "metadata": {},
   "source": [
    "# LATIHAN 2 - Tugas 02 List Nilai\n",
    "\n",
    "Diberikan sekumpulan Nilai Random antara 0 sampai dengan 100 sebanyak 250 nilai. Buatlah program untuk melakukan hal berikut:\n",
    "1. Tampilkan Angka Ganjil dari ke 250 nilai tersebut\n",
    "2. Tampilkan berapa banyak yang mendapatkan nilai lebih dari 70\n",
    "3. Tampilkan standar deviasi dari sekumpulan nilai tersebut\n",
    "4. Tampilkan nilai maksimum dan minimum\n",
    "5. Tampilkan modus dari sekumpulan nilai tersebut"
   ]
  },
  {
   "cell_type": "code",
   "execution_count": 4,
   "metadata": {},
   "outputs": [
    {
     "name": "stdout",
     "output_type": "stream",
     "text": [
      "Nilai Tugas [17, 59, 75, 98, 81, 74, 79, 21, 40, 34, 11, 54, 37, 33, 32, 20, 43, 97, 29, 80, 22, 5, 60, 28, 49, 35, 5, 92, 22, 92, 73, 46, 87, 81, 25, 65, 60, 59, 15, 9, 54, 61, 11, 70, 46, 57, 4, 20, 14, 6, 77, 17, 41, 13, 40, 47, 46, 5, 32, 80, 23, 60, 21, 32, 56, 18, 94, 68, 11, 55, 31, 89, 39, 28, 50, 91, 35, 95, 17, 86, 48, 75, 95, 28, 63, 60, 10, 85, 14, 41, 23, 90, 85, 9, 77, 30, 86, 21, 37, 51, 79, 76, 91, 66, 81, 65, 44, 10, 52, 41, 82, 75, 74, 57, 41, 10, 88, 12, 58, 74, 18, 50, 23, 93, 9, 48, 85, 20, 32, 2, 44, 69, 59, 47, 12, 75, 14, 53, 33, 10, 64, 68, 88, 54, 3, 7, 33, 73, 12, 91, 71, 25, 47, 16, 4, 87, 19, 72, 71, 21, 92, 74, 89, 86, 35, 12, 52, 88, 97, 81, 53, 54, 64, 30, 94, 6, 17, 5, 87, 83, 93, 5, 23, 39, 84, 14, 98, 38, 15, 21, 35, 6, 19, 10, 74, 91, 16, 83, 9, 91, 23, 27, 48, 80, 72, 18, 40, 27, 55, 84, 82, 86, 98, 86, 54, 79, 33, 68, 24, 78, 99, 66, 76, 63, 19, 43, 72, 18, 35, 20, 98, 35, 2, 8, 7, 30, 4, 71, 42, 80, 2, 15, 34, 80, 41, 12, 42, 66, 10, 31]\n"
     ]
    }
   ],
   "source": [
    "import random\n",
    "\n",
    "# GENERATE RANDOM\n",
    "nilaiTugas = []\n",
    "for i in range(250):\n",
    "    nilaiTugas.append(random.randrange(1,100,1))\n",
    "\n",
    "print(\"Nilai Tugas\",nilaiTugas)"
   ]
  },
  {
   "cell_type": "code",
   "execution_count": 81,
   "metadata": {},
   "outputs": [
    {
     "name": "stdout",
     "output_type": "stream",
     "text": [
      "Nilai ganjil = [17, 59, 75, 81, 79, 21, 11, 37, 33, 43, 97, 29, 5, 49, 35, 5, 73, 87, 81, 25, 65, 59, 15, 9, 61, 11, 57, 77, 17, 41, 13, 47, 5, 23, 21, 11, 55, 31, 89, 39, 91, 35, 95, 17, 75, 95, 63, 85, 41, 23, 85, 9, 77, 21, 37, 51, 79, 91, 81, 65, 41, 75, 57, 41, 23, 93, 9, 85, 69, 59, 47, 75, 53, 33, 3, 7, 33, 73, 91, 71, 25, 47, 87, 19, 71, 21, 89, 35, 97, 81, 53, 17, 5, 87, 83, 93, 5, 23, 39, 15, 21, 35, 19, 91, 83, 9, 91, 23, 27, 27, 55, 79, 33, 99, 63, 19, 43, 35, 35, 7, 71, 15, 41, 31]\n"
     ]
    }
   ],
   "source": [
    "#Tampilkan\n",
    "#Ganjil\n",
    "\n",
    "nilaiGanjil = []\n",
    "for g in nilaiTugas:\n",
    "    if g%2!=0:\n",
    "        nilaiGanjil.append (g)\n",
    "print (\"Nilai ganjil =\", nilaiGanjil)"
   ]
  },
  {
   "cell_type": "code",
   "execution_count": 82,
   "metadata": {},
   "outputs": [
    {
     "name": "stdout",
     "output_type": "stream",
     "text": [
      "Nilai lebih dari 70 =  [75, 98, 81, 74, 79, 97, 80, 92, 92, 73, 87, 81, 77, 80, 94, 89, 91, 95, 86, 75, 95, 85, 90, 85, 77, 86, 79, 76, 91, 81, 82, 75, 74, 88, 74, 93, 85, 75, 88, 73, 91, 71, 87, 72, 71, 92, 74, 89, 86, 88, 97, 81, 94, 87, 83, 93, 84, 98, 74, 91, 83, 91, 80, 72, 84, 82, 86, 98, 86, 79, 78, 99, 76, 72, 98, 71, 80, 80]\n"
     ]
    }
   ],
   "source": [
    "#Nilai > 70\n",
    "nilailebih70 = []\n",
    "for y in nilaiTugas:\n",
    "    if y > 70:\n",
    "        nilailebih70.append (y)\n",
    "print (\"Nilai lebih dari 70 = \",nilailebih70)"
   ]
  },
  {
   "cell_type": "code",
   "execution_count": 83,
   "metadata": {},
   "outputs": [
    {
     "name": "stdout",
     "output_type": "stream",
     "text": [
      "Standar Deviasi= 29.288994602397622\n"
     ]
    }
   ],
   "source": [
    "#standar deviasi\n",
    "x = len(nilaiTugas)\n",
    "\n",
    "Totalnilai = 0\n",
    "for n in nilaiTugas:\n",
    "    Totalnilai += n**2\n",
    "    \n",
    "sigma = 0\n",
    "for i in nilaiTugas:\n",
    "    sigma += i\n",
    "sigma = sigma**2\n",
    "\n",
    "standarDeviasi = ((x*Totalnilai-sigma)/(x*(x-1)))**0.5\n",
    "\n",
    "print (\"Standar Deviasi=\", standarDeviasi)"
   ]
  },
  {
   "cell_type": "code",
   "execution_count": 84,
   "metadata": {},
   "outputs": [
    {
     "name": "stdout",
     "output_type": "stream",
     "text": [
      "Nilai maksimum =  99\n"
     ]
    }
   ],
   "source": [
    "#Maksimum\n",
    "Maks = 0\n",
    "for m in nilaiTugas:\n",
    "    if m>Maks:\n",
    "        Maks = m\n",
    "print (\"Nilai maksimum = \", Maks)\n",
    "        "
   ]
  },
  {
   "cell_type": "code",
   "execution_count": 86,
   "metadata": {},
   "outputs": [
    {
     "name": "stdout",
     "output_type": "stream",
     "text": [
      "Nilai Minimum =  2\n"
     ]
    }
   ],
   "source": [
    "#Minimum\n",
    "Min = 99\n",
    "for n in nilaiTugas:\n",
    "    if n<Min:\n",
    "        Min = n\n",
    "print (\"Nilai Minimum = \", Min)"
   ]
  },
  {
   "cell_type": "code",
   "execution_count": 102,
   "metadata": {},
   "outputs": [
    {
     "name": "stdout",
     "output_type": "stream",
     "text": [
      "Modus [35]\n",
      "Modus [10]\n"
     ]
    }
   ],
   "source": [
    "#Modus\n",
    "\n",
    "nilaimaks = 0\n",
    "\n",
    "modus = {}\n",
    "\n",
    "for i in nilaiTugas:\n",
    "    count = nilaiTugas.count(i)\n",
    "    modus.update({i:count})\n",
    "    \n",
    "for key in modus:\n",
    "    if modus [key]> nilaimaks:\n",
    "        nilaimaks = modus [key]\n",
    "        \n",
    "for key in modus:\n",
    "    if modus [key] == nilaimaks:\n",
    "        print  (\"Modus\", [key])"
   ]
  },
  {
   "cell_type": "code",
   "execution_count": null,
   "metadata": {},
   "outputs": [],
   "source": []
  },
  {
   "cell_type": "code",
   "execution_count": null,
   "metadata": {},
   "outputs": [],
   "source": []
  }
 ],
 "metadata": {
  "kernelspec": {
   "display_name": "Python 3",
   "language": "python",
   "name": "python3"
  },
  "language_info": {
   "codemirror_mode": {
    "name": "ipython",
    "version": 3
   },
   "file_extension": ".py",
   "mimetype": "text/x-python",
   "name": "python",
   "nbconvert_exporter": "python",
   "pygments_lexer": "ipython3",
   "version": "3.6.6"
  }
 },
 "nbformat": 4,
 "nbformat_minor": 2
}
