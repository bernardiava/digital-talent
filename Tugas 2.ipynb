{
 "cells": [
  {
   "cell_type": "code",
   "execution_count": 14,
   "metadata": {},
   "outputs": [
    {
     "ename": "SyntaxError",
     "evalue": "unexpected EOF while parsing (<ipython-input-14-5fdf45e83418>, line 44)",
     "output_type": "error",
     "traceback": [
      "\u001b[1;36m  File \u001b[1;32m\"<ipython-input-14-5fdf45e83418>\"\u001b[1;36m, line \u001b[1;32m44\u001b[0m\n\u001b[1;33m    print('modus\\n',modus\u001b[0m\n\u001b[1;37m                         ^\u001b[0m\n\u001b[1;31mSyntaxError\u001b[0m\u001b[1;31m:\u001b[0m unexpected EOF while parsing\n"
     ]
    }
   ],
   "source": [
    "import random\n",
    "\n",
    "# GENERATE RANDOM\n",
    "nilaiTugas = []\n",
    "for i in range(250):\n",
    "    nilaiTugas.append(random.randrange(1,100,1))\n",
    "\n",
    "print(nilaiTugas)\n",
    "\n",
    "# TAMPILKAN:\n",
    "# ganjil\n",
    "ganjil = []\n",
    "for i in nilaiTugas:\n",
    "    if i%2!=0:\n",
    "        ganjil.append(i)\n",
    "print('Daftar nilai ganjil:\\n',ganjil)\n",
    "    \n",
    "# nilai > 70\n",
    "besar_70 = []\n",
    "for i in nilaiTugas:\n",
    "    if i>70:\n",
    "        besar_70.append(i)\n",
    "print('Daftar nilai > 70:\\n',besar_70)\n",
    "#standar deviasi\n",
    "import statistics \n",
    "print('Standar deviasi ',statistics.stdev(nilaiTugas))\n",
    "#maksimum\n",
    "maksimum = nilaiTugas[0]\n",
    "for i in nilaiTugas:\n",
    "    if nilaiTugas[i]>maksimum:\n",
    "        maksimum = nilaiTugas[i]\n",
    "print('Nilai Terbesar: ',maksimum)\n",
    "#minimum\n",
    "min = nilaiTugas[0]\n",
    "for i in nilaiTugas:\n",
    "    if nilaiTugas[i]<min:\n",
    "        min = nilaiTugas[i]\n",
    "print('Nilai Terkecil: ',min)\n",
    "#modus\n"
   ]
  },
  {
   "cell_type": "code",
   "execution_count": null,
   "metadata": {},
   "outputs": [],
   "source": []
  }
 ],
 "metadata": {
  "kernelspec": {
   "display_name": "Python 3",
   "language": "python",
   "name": "python3"
  },
  "language_info": {
   "codemirror_mode": {
    "name": "ipython",
    "version": 3
   },
   "file_extension": ".py",
   "mimetype": "text/x-python",
   "name": "python",
   "nbconvert_exporter": "python",
   "pygments_lexer": "ipython3",
   "version": "3.7.0"
  }
 },
 "nbformat": 4,
 "nbformat_minor": 2
}
